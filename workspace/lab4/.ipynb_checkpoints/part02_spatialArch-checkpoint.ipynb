{
 "cells": [
  {
   "cell_type": "markdown",
   "metadata": {},
   "source": [
    "# Your name:\n",
    "Cindy Yang"
   ]
  },
  {
   "cell_type": "code",
   "execution_count": 1,
   "metadata": {},
   "outputs": [],
   "source": [
    "import pandas as pd\n",
    "import numpy as np"
   ]
  },
  {
   "cell_type": "markdown",
   "metadata": {},
   "source": [
    "## Part 2: Full System (PE Array, Global Buffer, NoC) Modeling\n",
    "Now that you are familiar with the simple PE setup, let’s look at a full system as shown in the figure below. This design is composed of two levels of on-chip storage --- the global buffer and the local scratchpads in each PE as described in part 1. Each datatype is sent via a network from the global buffer to the PE array, and there are inter-PE networks that are capable of sending various data types within the array. We provide you with the loop nest of this design in the figure below. \n",
    "\n",
    "<br>\n",
    "<div class=\"row\">\n",
    "  <div class=\"column\">\n",
    "    <img align=\"left\" src=\"designs/system_manual/figures/system_arch.png\" alt=\"Full System  Architecture Diagram\" style=\"margin:50px 0px 0px 50px; width:40%\">\n",
    "  </div>\n",
    "  <div class=\"column\">\n",
    "    <img  align=\"left\"  src=\"designs/system_manual/figures/system_loopnest.png\" alt=\"System Loopnest\" style=\"width:50%\">\n",
    "  </div>\n",
    "</div>"
   ]
  },
  {
   "cell_type": "markdown",
   "metadata": {},
   "source": [
    "## Question 2  Manual Exploration of the Mapspace"
   ]
  },
  {
   "cell_type": "markdown",
   "metadata": {},
   "source": [
    "### Question 2.1\n",
    "You are provided with a PE array that has 16 PEs. Assume you can design different architectures and associated mappings for every layer shape (i.e. both architecture yaml and mapping yaml can change across layer shapes). \n",
    "\n",
    "In specific, you can select the height and width of the PE array as long as the total number of PEs euqal to 16, while keeping other architectural attributes the same. We have provided 2 possible architecture descriptions for this question are provided in the `designs/system_manual/arch` folder, they are `system_arch_1x16.yaml` and `system_arch_2x8.yaml`.\n",
    "\n",
    "\n",
    "1. Please examine the provided architecture descriptions, and modify `system_arch_4x4.yaml` to create an architecture description that has the same buffer sizes and a PE array of physical dimension 4x4. Which hardware attributes do you need to change?\n",
    "\n",
    "   I changed the meshX and meshY attributes of the scratchpad.\n",
    "\n",
    "   \n",
    "\n",
    "2. In 1 or 2 sentences, explain why running the same workload on architectures with different physical PE array dimensions might result in different performance (*e.g.,* energy, throughput)?\n",
    "\n",
    "   Different PE array dimensions represent different spatial mappings and affects communication patterns between PEs. A more efficient design maximizes local communication between spatially close PEs and minimizes data movement between PEs and the global buffer. \n"
   ]
  },
  {
   "cell_type": "markdown",
   "metadata": {},
   "source": [
    "### Question 2.2\n",
    "In this question, we would like you to find the best architecture (among the three architectures in question 2.1) and the associated mapping that has the highest throughput (minimizes the number of cycles) for `layer_shapes/tiny_layer.yaml`. If two architectures result in the same throughput, choose the one that's less energy consuming.\n",
    "  \n",
    "<font color=blue> <b>Your mapping has to agree with the loop nest provided above. To simplify your search, please further assume that: </b>\n",
    "    \n",
    "   - input channels can only be spatially mapped to the rows of the PE array and output channels can only be spatially mapped to the columns of the PE array.\n",
    "    \n",
    "   - PE scrachpads only store filter weights \n",
    "    \n",
    "</font>\n",
    "\n",
    "A sample mapping for `system_arch_1x16.yaml` is provided in `designs/system_manual/map`. You can add more in this directory. As a reminder, to perform a simulation of the architecture with a specified mapping, you should run the command (*replace the archtecture file name, mapping file name, and layer shape file name approporiatly*) - see the below command cell. \n",
    "\n",
    "```timeloop-model arch/<arch_file_name>.yaml arch/components/*  map/<mapping_file_name>.yaml ../../layer_shapes/<layer_shape_file_name>.yaml``` \n",
    "\n",
    "\n",
    "Please fill in the table below to provide your answer."
   ]
  },
  {
   "cell_type": "code",
   "execution_count": 63,
   "metadata": {},
   "outputs": [
    {
     "name": "stdout",
     "output_type": "stream",
     "text": [
      "execute:/usr/local/bin/accelergy arch/system_arch_2x8.yaml arch/components/mac_compute.yaml arch/components/reg_storage.yaml arch/components/smart_storage.yaml map/mapping_4x4.yaml ../../layer_shapes/tiny_layer.yaml --oprefix timeloop-model. -o ./ > timeloop-model.accelergy.log 2>&1\n",
      "Generate Accelergy ART (area reference table) to replace internal area model.\n",
      "Utilization = 1.00 | pJ/MACC =   14.728\n"
     ]
    },
    {
     "name": "stderr",
     "output_type": "stream",
     "text": [
      "WARNING: Interpreting 0 to mean full problem dimension instead of residue.\n",
      "WARNING: Interpreting 0 to mean full problem dimension instead of residue.\n",
      "WARNING: Interpreting 0 to mean full problem dimension instead of residue.\n",
      "WARNING: Interpreting 0 to mean full problem dimension instead of residue.\n"
     ]
    }
   ],
   "source": [
    "%%bash\n",
    "cd designs/system_manual/\n",
    "timeloop-model arch/system_arch_2x8.yaml arch/components/*  map/mapping_4x4.yaml ../../layer_shapes/tiny_layer.yaml\n"
   ]
  },
  {
   "cell_type": "code",
   "execution_count": 64,
   "metadata": {},
   "outputs": [
    {
     "name": "stdout",
     "output_type": "stream",
     "text": [
      " problem   architecture name  number of cycles  total energy (uJ)  M3  N3  C3  M2  N2  C2  M1  C1  N0\n",
      "tiny_layer        2x8               8100              1.91         2   2   9   1   1   1   8   2   1 \n"
     ]
    }
   ],
   "source": [
    "# the Question 2.2 chart\n",
    "d = {'problem': ['tiny_layer'],  # fill in your answer here\n",
    "     'architecture name': ['2x8'], # fill in your answer here\n",
    "     'number of cycles': [8100],   # fill in your answer here\n",
    "     'total energy (uJ)': [1.91],  # fill in your answer here\n",
    "     'M3': [2],\n",
    "     'N3': [2],\n",
    "     'C3': [9],\n",
    "     'M2': [1],\n",
    "     'N2': [1],\n",
    "     'C2': [1],\n",
    "     'M1': [8],\n",
    "     'C1': [2],\n",
    "     'N0': [1]\n",
    "    }\n",
    "df = pd.DataFrame(data=d)\n",
    "print(df.to_string(index=False, justify='center'))"
   ]
  },
  {
   "cell_type": "markdown",
   "metadata": {},
   "source": [
    "### Question 3 Mapspace Exploration with Timeloop"
   ]
  },
  {
   "cell_type": "markdown",
   "metadata": {},
   "source": [
    "Mananully generating the best mapping for each architecture and layer shape is rather time-consuming, even if the search is performed under a tightly constrained map sapace, *e.g.,* the one in question 2.2. Therefore, timeloop does provide the automatic mapping space search functinality when appropriate map space constriants are given.\n",
    "\n",
    "To perform an automatic mapping space search, you need to provide a mapspace constraint file as an input. A mapspace constraint file specifies the limitations imposed by your dataflow or hardware structures. An example mapping space constraint file for the loop nest above can be found in `designs/system_auto/constraints/example_constraints.yaml` To automatically search the mapspace with the constraints file, you should run the command - see the command cell below\n",
    "\n",
    "`timeloop-mapper arch/system_arch_2x8.yaml arch/components/* constraints/example_constraints.yaml mapper/mapper.yaml ../../layer_shapes/tiny_layer.yaml`\n",
    "\n",
    "*The search should take less than 5 minutes to finish. If you are running this command from the shell instead of running the below cell, you can also temrinate it whenever you want by pressing Ctrl+C (you will need to wait for timeloop to finish the remainig computations after you send the signal; the terminated threads will have a dash next to its id).*"
   ]
  },
  {
   "cell_type": "code",
   "execution_count": 33,
   "metadata": {},
   "outputs": [
    {
     "name": "stdout",
     "output_type": "stream",
     "text": [
      "  _______                __                \n",
      " /_  __(_)___ ___  ___  / /___  ____  ____ \n",
      "  / / / / __ `__ \\/ _ \\/ / __ \\/ __ \\/ __ \\\n",
      " / / / / / / / / /  __/ / /_/ / /_/ / /_/ /\n",
      "/_/ /_/_/ /_/ /_/\\___/_/\\____/\\____/ .___/ \n",
      "                                  /_/      \n",
      "\n",
      "Problem configuration complete.\n",
      "execute:/usr/local/bin/accelergy arch/system_arch_2x8.yaml arch/components/mac_compute.yaml arch/components/reg_storage.yaml arch/components/smart_storage.yaml constraints/example_constraints.yaml mapper/mapper.yaml ../../layer_shapes/tiny_layer.yaml --oprefix timeloop-mapper. -o ./ > timeloop-mapper.accelergy.log 2>&1\n",
      "Generate Accelergy ERT (energy reference table) to replace internal energy model.\n",
      "Generate Accelergy ART (area reference table) to replace internal area model.\n",
      "Architecture configuration complete.\n",
      "Using threads = 8\n",
      "Mapper configuration complete.\n",
      "Initializing Index Factorization subspace.\n",
      "  Factorization options along problem dimension C = 18\n",
      "  Factorization options along problem dimension M = 15\n",
      "  Factorization options along problem dimension R = 1\n",
      "  Factorization options along problem dimension S = 1\n",
      "  Factorization options along problem dimension N = 3\n",
      "  Factorization options along problem dimension P = 1\n",
      "  Factorization options along problem dimension Q = 1\n",
      "Mapspace Dimension [IndexFactorization] Size: 810\n",
      "Mapspace Dimension [LoopPermutation] Size: 1\n",
      "Mapspace Dimension [Spatial] Size: 1\n",
      "Mapspace Dimension [DatatypeBypass] Size: 1\n",
      "Mapspace split! Per-split Mapping Dimension [IndexFactorization] Size: 102 Residue: 6\n",
      "Mapspace construction complete.\n",
      "Search configuration complete.\n",
      "\n",
      "Summary stats for best mapping found by mapper:\n",
      "  Utilization = 1.00 | pJ/MACC =   14.728\n"
     ]
    },
    {
     "name": "stderr",
     "output_type": "stream",
     "text": [
      "WARNING: Interpreting 0 to mean full problem dimension instead of residue.\n",
      "WARNING: Interpreting 0 to mean full problem dimension instead of residue.\n",
      "WARNING: Interpreting 0 to mean full problem dimension instead of residue.\n",
      "WARNING: Interpreting 0 to mean full problem dimension instead of residue.\n",
      "[  2] Utilization = 0.12 | pJ/MACC =   38.208 | L5[WIO] M16 C9 - L4[WIO] N2 C2X - L3[W] R3 S3 P5 Q5 - L2[W] Q1 - L1[I] Q1 - L0[O] Q1 \n",
      "[  3] Utilization = 0.06 | pJ/MACC =   39.815 | L5[WIO] M16 C6 - L4[WIO] C3 - L3[W] R3 S3 N2 P5 Q5 - L2[W] Q1 - L1[I] Q1 - L0[O] Q1 \n",
      "[  4] Utilization = 0.12 | pJ/MACC =   26.724 | L5[WIO] N2 M8 C9 - L4[WIO] M2 C2X - L3[W] R3 S3 P5 Q5 - L2[W] Q1 - L1[I] Q1 - L0[O] Q1 \n",
      "[  0] Utilization = 0.25 | pJ/MACC =   16.542 | L5[WIO] N2 M2 C18 - L4[WIO] M2 M4Y - L3[W] R3 S3 P5 Q5 - L2[W] Q1 - L1[I] Q1 - L0[O] Q1 \n",
      "[  6] Utilization = 0.12 | pJ/MACC =   24.131 | L5[WIO] M8 C9 - L4[WIO] N2 M2 C2X - L3[W] R3 S3 P5 Q5 - L2[W] Q1 - L1[I] Q1 - L0[O] Q1 \n",
      "[  5] Utilization = 0.06 | pJ/MACC =   28.336 | L5[WIO] N2 M8 C9 - L4[WIO] M2 C2 - L3[W] R3 S3 P5 Q5 - L2[W] Q1 - L1[I] Q1 - L0[O] Q1 \n",
      "[  1] Utilization = 0.06 | pJ/MACC =   28.336 | L5[WIO] N2 M8 C3 - L4[WIO] M2 C6 - L3[W] R3 S3 P5 Q5 - L2[W] Q1 - L1[I] Q1 - L0[O] Q1 \n",
      "[  4] Utilization = 0.12 | pJ/MACC =   17.075 | L5[WIO] M4 C9 - L4[WIO] N2 M4 C2X - L3[W] R3 S3 P5 Q5 - L2[W] Q1 - L1[I] Q1 - L0[O] Q1 \n",
      "[  7] Utilization = 0.06 | pJ/MACC =   25.744 | L5[WIO] M8 C9 - L4[WIO] N2 M2 C2 - L3[W] R3 S3 P5 Q5 - L2[W] Q1 - L1[I] Q1 - L0[O] Q1 \n",
      "[  1] Utilization = 0.12 | pJ/MACC =   27.530 | L5[WIO] N2 M8 C6 - L4[WIO] C3 M2Y - L3[W] R3 S3 P5 Q5 - L2[W] Q1 - L1[I] Q1 - L0[O] Q1 \n",
      "[  5] Utilization = 0.06 | pJ/MACC =   18.687 | L5[WIO] M4 C9 - L4[WIO] N2 M4 C2 - L3[W] R3 S3 P5 Q5 - L2[W] Q1 - L1[I] Q1 - L0[O] Q1 \n",
      "[  2] Utilization = 0.25 | pJ/MACC =   25.918 | L5[WIO] N2 M8 C9 - L4[WIO] Q1 M2Y C2X - L3[W] R3 S3 P5 Q5 - L2[W] Q1 - L1[I] Q1 - L0[O] Q1 \n",
      "[  3] Utilization = 0.06 | pJ/MACC =   28.336 | L5[WIO] N2 M8 C6 - L4[WIO] M2 C3 - L3[W] R3 S3 P5 Q5 - L2[W] Q1 - L1[I] Q1 - L0[O] Q1 \n",
      "[  6] Utilization = 0.25 | pJ/MACC =   25.918 | L5[WIO] N2 M8 C3 - L4[WIO] C3 M2Y C2X - L3[W] R3 S3 P5 Q5 - L2[W] Q1 - L1[I] Q1 - L0[O] Q1 \n",
      "[  5] Utilization = 0.12 | pJ/MACC =   24.896 | L5[WIO] M8 C6 - L4[WIO] C3 M2Y - L3[W] R3 S3 N2 P5 Q5 - L2[W] Q1 - L1[I] Q1 - L0[O] Q1 \n",
      "[  7] Utilization = 0.12 | pJ/MACC =   27.530 | L5[WIO] N2 M8 C3 - L4[WIO] C6 M2Y - L3[W] R3 S3 P5 Q5 - L2[W] Q1 - L1[I] Q1 - L0[O] Q1 \n",
      "[  4] Utilization = 0.25 | pJ/MACC =   16.227 | L5[WIO] M4 C9 - L4[WIO] M2 M2Y C2X - L3[W] R3 S3 N2 P5 Q5 - L2[W] Q1 - L1[I] Q1 - L0[O] Q1 \n",
      "[  3] Utilization = 0.12 | pJ/MACC =   27.530 | L5[WIO] N2 M8 C9 - L4[WIO] C2 M2Y - L3[W] R3 S3 P5 Q5 - L2[W] Q1 - L1[I] Q1 - L0[O] Q1 \n",
      "[  6] Utilization = 0.25 | pJ/MACC =   17.436 | L5[WIO] M4 C18 - L4[WIO] Q1 M4Y - L3[W] R3 S3 N2 P5 Q5 - L2[W] Q1 - L1[I] Q1 - L0[O] Q1 \n",
      "[  5] Utilization = 0.12 | pJ/MACC =   17.839 | L5[WIO] M4 C9 - L4[WIO] M2 C2 M2Y - L3[W] R3 S3 N2 P5 Q5 - L2[W] Q1 - L1[I] Q1 - L0[O] Q1 \n",
      "[  4] Utilization = 0.50 | pJ/MACC =   14.930 | L5[WIO] N2 M2 C9 - L4[WIO] M2 M4Y C2X - L3[W] R3 S3 P5 Q5 - L2[W] Q1 - L1[I] Q1 - L0[O] Q1 \n",
      "[  5] Utilization = 0.25 | pJ/MACC =   16.542 | L5[WIO] N2 M2 C9 - L4[WIO] M2 C2 M4Y - L3[W] R3 S3 P5 Q5 - L2[W] Q1 - L1[I] Q1 - L0[O] Q1 \n",
      "[  2] Utilization = 0.25 | pJ/MACC =   20.070 | L5[WIO] N2 M4 C18 - L4[WIO] Q1 M4Y - L3[W] R3 S3 P5 Q5 - L2[W] Q1 - L1[I] Q1 - L0[O] Q1 \n",
      "[  6] Utilization = 0.50 | pJ/MACC =   18.458 | L5[WIO] N2 M4 C9 - L4[WIO] Q1 M4Y C2X - L3[W] R3 S3 P5 Q5 - L2[W] Q1 - L1[I] Q1 - L0[O] Q1 \n",
      "[  0] Utilization = 0.25 | pJ/MACC =   15.333 | L5[WIO] N2 M2 C9 - L4[WIO] M4 M2Y C2X - L3[W] R3 S3 P5 Q5 - L2[W] Q1 - L1[I] Q1 - L0[O] Q1 \n",
      "[  7] Utilization = 0.25 | pJ/MACC =   20.070 | L5[WIO] N2 M4 C9 - L4[WIO] C2 M4Y - L3[W] R3 S3 P5 Q5 - L2[W] Q1 - L1[I] Q1 - L0[O] Q1 \n",
      "[  1] Utilization = 0.12 | pJ/MACC =   20.473 | L5[WIO] N2 M4 C9 - L4[WIO] M2 C2 M2Y - L3[W] R3 S3 P5 Q5 - L2[W] Q1 - L1[I] Q1 - L0[O] Q1 \n",
      "[  6] Utilization = 0.50 | pJ/MACC =   16.340 | L5[WIO] N2 M2 C18 - L4[WIO] Q1 M8Y - L3[W] R3 S3 P5 Q5 - L2[W] Q1 - L1[I] Q1 - L0[O] Q1 \n",
      "[  0] Utilization = 0.50 | pJ/MACC =   15.829 | L5[WIO] M4 C9 - L4[WIO] N2 M4Y C2X - L3[W] R3 S3 P5 Q5 - L2[W] Q1 - L1[I] Q1 - L0[O] Q1 \n",
      "[  3] Utilization = 0.50 | pJ/MACC =   16.340 | L5[WIO] N2 M2 C9 - L4[WIO] C2 M8Y - L3[W] R3 S3 P5 Q5 - L2[W] Q1 - L1[I] Q1 - L0[O] Q1 \n",
      "[  1] Utilization = 0.12 | pJ/MACC =   16.945 | L5[WIO] N2 M2 C9 - L4[WIO] M4 C2 M2Y - L3[W] R3 S3 P5 Q5 - L2[W] Q1 - L1[I] Q1 - L0[O] Q1 \n",
      "[  1] Utilization = 0.25 | pJ/MACC =   17.478 | L5[WIO] M4 C9 - L4[WIO] N2 C2 M4Y - L3[W] R3 S3 P5 Q5 - L2[W] Q1 - L1[I] Q1 - L0[O] Q1 \n",
      "[  2] Utilization = 1.00 | pJ/MACC =   14.728 | L5[WIO] N2 M2 C9 - L4[WIO] Q1 M8Y C2X - L3[W] R3 S3 P5 Q5 - L2[W] Q1 - L1[I] Q1 - L0[O] Q1 \n",
      "[  6] STATEMENT: 800 suboptimal mappings found since the last upgrade, terminating search.\n",
      "[  4] STATEMENT: 800 suboptimal mappings found since the last upgrade, terminating search.\n",
      "[  7] STATEMENT: 800 suboptimal mappings found since the last upgrade, terminating search.\n",
      "[  5] STATEMENT: 800 suboptimal mappings found since the last upgrade, terminating search.\n",
      "[  0] STATEMENT: 800 suboptimal mappings found since the last upgrade, terminating search.\n",
      "[  3] STATEMENT: 800 suboptimal mappings found since the last upgrade, terminating search.\n",
      "[  2] STATEMENT: 800 suboptimal mappings found since the last upgrade, terminating search.\n",
      "[  1] STATEMENT: 800 suboptimal mappings found since the last upgrade, terminating search.\n"
     ]
    }
   ],
   "source": [
    "%%bash\n",
    "cd designs/system_auto/\n",
    "timeloop-mapper arch/system_arch_2x8.yaml arch/components/* constraints/example_constraints.yaml mapper/mapper.yaml ../../layer_shapes/tiny_layer.yaml"
   ]
  },
  {
   "cell_type": "markdown",
   "metadata": {},
   "source": [
    "### Question 3.1\n",
    "\n",
    "In this question, we have provided you with a much more relaxed constraint file `designs/system_auto/constraints/relaxed_constraints.yaml`. \n",
    "\n",
    "    \n",
    "    \n",
    "1. Please examine the file, and list two additional relaxations on the mapspace constraints in `relaxed_contraints.yaml ` comparing to `example_contsraints.yaml` (*Note: there are more than two relaxations, but you only need to list two*)\n",
    " \n",
    "   1. We removed the temporal constraints on M, C in the scratchpad.\n",
    "   2. We removed temporal constraints on the DRAM.\n",
    "    \n",
    "\n",
    "2. Please copy and paste your implementation of the 4x4 architecture from the `system_manual/arch` folder to `system_atuo/arch` folder. With the `relaxed_constraints.yaml` constraint file, run auto-search on possible architectures (among 1x16, 2x8, and 4x4) for `tiny_layer`, `depth_wise` layer and `point_wise`. Find the architecture that has the highest throughput. If two architectures result in the same throughput, choose the one that's less energy consuming. Please fill in the chart below. \n"
   ]
  },
  {
   "cell_type": "code",
   "execution_count": 57,
   "metadata": {},
   "outputs": [
    {
     "name": "stdout",
     "output_type": "stream",
     "text": [
      "  _______                __                \n",
      " /_  __(_)___ ___  ___  / /___  ____  ____ \n",
      "  / / / / __ `__ \\/ _ \\/ / __ \\/ __ \\/ __ \\\n",
      " / / / / / / / / /  __/ / /_/ / /_/ / /_/ /\n",
      "/_/ /_/_/ /_/ /_/\\___/_/\\____/\\____/ .___/ \n",
      "                                  /_/      \n",
      "\n",
      "Problem configuration complete.\n",
      "execute:/usr/local/bin/accelergy arch/system_arch_2x8.yaml arch/components/mac_compute.yaml arch/components/reg_storage.yaml arch/components/smart_storage.yaml constraints/relaxed_constraints.yaml mapper/mapper.yaml ../../layer_shapes/point_wise.yaml --oprefix timeloop-mapper. -o ./ > timeloop-mapper.accelergy.log 2>&1\n",
      "Generate Accelergy ERT (energy reference table) to replace internal energy model.\n",
      "Generate Accelergy ART (area reference table) to replace internal area model.\n",
      "Architecture configuration complete.\n",
      "Using threads = 8\n",
      "Mapper configuration complete.\n",
      "Initializing Index Factorization subspace.\n",
      "  Factorization options along problem dimension C = 40\n",
      "  Factorization options along problem dimension M = 40\n",
      "  Factorization options along problem dimension R = 1\n",
      "  Factorization options along problem dimension S = 1\n",
      "  Factorization options along problem dimension N = 3\n",
      "  Factorization options along problem dimension P = 1\n",
      "  Factorization options along problem dimension Q = 1\n",
      "Mapspace Dimension [IndexFactorization] Size: 4800\n",
      "Mapspace Dimension [LoopPermutation] Size: 768144384000\n",
      "Mapspace Dimension [Spatial] Size: 1\n",
      "Mapspace Dimension [DatatypeBypass] Size: 1\n",
      "Mapspace split! Per-split Mapping Dimension [IndexFactorization] Size: 600 Residue: 0\n",
      "Mapspace construction complete.\n",
      "Search configuration complete.\n",
      "\n",
      "Summary stats for best mapping found by mapper:\n",
      "  Utilization = 0.62 | pJ/MACC =   27.677\n"
     ]
    },
    {
     "name": "stderr",
     "output_type": "stream",
     "text": [
      "WARNING: Interpreting 0 to mean full problem dimension instead of residue.\n",
      "WARNING: Interpreting 0 to mean full problem dimension instead of residue.\n",
      "WARNING: Interpreting 0 to mean full problem dimension instead of residue.\n",
      "WARNING: Interpreting 0 to mean full problem dimension instead of residue.\n",
      "[  1] Utilization = 0.06 | pJ/MACC =   37.060 | L5[WIO] N2 M2 C2 - L4[WIO] C6 - L3[W] M10 P5 Q5 - L2[W] Q1 - L1[I] Q1 - L0[O] Q1 \n",
      "[  4] Utilization = 0.06 | pJ/MACC =   86.312 | L5[WIO] M10 C6 - L4[WIO] N2 M2 - L3[W] C2 P5 Q5 - L2[W] Q1 - L1[I] Q1 - L0[O] Q1 \n",
      "[  0] Utilization = 0.31 | pJ/MACC =   29.289 | L5[WIO] N2 M4 - L4[WIO] Q1 M5Y - L3[W] C12 P5 Q5 - L2[W] Q1 - L1[I] Q1 - L0[O] Q1 \n",
      "[  5] Utilization = 0.12 | pJ/MACC =   35.447 | L5[WIO] N2 M2 C6 - L4[WIO] Q1 C2X - L3[W] M10 P5 Q5 - L2[W] Q1 - L1[I] Q1 - L0[O] Q1 \n",
      "[  4] Utilization = 0.06 | pJ/MACC =   50.021 | L5[WIO] N2 M4 C6 - L4[WIO] Q1 - L3[W] M5 C2 P5 Q5 - L2[W] Q1 - L1[I] Q1 - L0[O] Q1 \n",
      "[  3] Utilization = 0.12 | pJ/MACC =   35.447 | L5[WIO] N2 M2 C2 - L4[WIO] C3 C2X - L3[W] M10 P5 Q5 - L2[W] Q1 - L1[I] Q1 - L0[O] Q1 \n",
      "[  2] Utilization = 0.62 | pJ/MACC =   27.677 | L5[WIO] N2 M4 - L4[WIO] Q1 M5Y C2X - L3[W] C6 P5 Q5 - L2[W] Q1 - L1[I] Q1 - L0[O] Q1 \n",
      "[  6] Utilization = 0.31 | pJ/MACC =   29.289 | L5[WIO] N2 M4 - L4[WIO] C12 M5Y - L3[W] P5 Q5 - L2[W] Q1 - L1[I] Q1 - L0[O] Q1 \n",
      "[  7] Utilization = 0.31 | pJ/MACC =   29.289 | L5[WIO] N2 M4 - L4[WIO] C2 M5Y - L3[W] C6 P5 Q5 - L2[W] Q1 - L1[I] Q1 - L0[O] Q1 \n",
      "[  4] Utilization = 0.25 | pJ/MACC =   28.160 | L5[WIO] N2 M10 - L4[WIO] C6 M2Y C2X - L3[W] P5 Q5 - L2[W] Q1 - L1[I] Q1 - L0[O] Q1 \n",
      "[  1] Utilization = 0.12 | pJ/MACC =   48.607 | L5[WIO] C2 M10 - L4[WIO] C6 M2Y - L3[W] N2 P5 Q5 - L2[W] Q1 - L1[I] Q1 - L0[O] Q1 \n",
      "[  1] Utilization = 0.12 | pJ/MACC =   36.254 | L5[WIO] N2 M2 C2 - L4[WIO] M5 C6 M2Y - L3[W] P5 Q5 - L2[W] Q1 - L1[I] Q1 - L0[O] Q1 \n",
      "[  5] Utilization = 0.12 | pJ/MACC =   29.773 | L5[WIO] N2 M10 - L4[WIO] C3 M2Y - L3[W] C4 P5 Q5 - L2[W] Q1 - L1[I] Q1 - L0[O] Q1 \n",
      "[  3] Utilization = 0.12 | pJ/MACC =   29.773 | L5[WIO] N2 M10 - L4[WIO] C6 M2Y - L3[W] C2 P5 Q5 - L2[W] Q1 - L1[I] Q1 - L0[O] Q1 \n",
      "[  3] Utilization = 0.25 | pJ/MACC =   51.490 | L5[WIO] M5 C3 - L4[WIO] N2 C2 M2Y C2X - L3[W] M2 P5 Q5 - L2[W] Q1 - L1[I] Q1 - L0[O] Q1 \n",
      "[  3] Utilization = 0.25 | pJ/MACC =   46.994 | L5[WIO] C2 M10 - L4[WIO] C3 M2Y C2X - L3[W] N2 P5 Q5 - L2[W] Q1 - L1[I] Q1 - L0[O] Q1 \n",
      "[  5] Utilization = 0.25 | pJ/MACC =   51.454 | L5[WIO] M5 C6 - L4[WIO] N2 M2Y C2X - L3[W] M2 P5 Q5 - L2[W] Q1 - L1[I] Q1 - L0[O] Q1 \n",
      "[  5] Utilization = 0.62 | pJ/MACC =   44.485 | L5[WIO] M4 C6 - L4[WIO] Q1 M5Y C2X - L3[W] N2 P5 Q5 - L2[W] Q1 - L1[I] Q1 - L0[O] Q1 \n",
      "[  3] Utilization = 0.62 | pJ/MACC =   44.485 | L5[WIO] M4 C3 - L4[WIO] C2 M5Y C2X - L3[W] N2 P5 Q5 - L2[W] Q1 - L1[I] Q1 - L0[O] Q1 \n",
      "[  1] Utilization = 0.31 | pJ/MACC =   35.770 | L5[WIO] N2 M2 C2 - L4[WIO] C6 M5Y - L3[W] M2 P5 Q5 - L2[W] Q1 - L1[I] Q1 - L0[O] Q1 \n",
      "[  0] Utilization = 0.62 | pJ/MACC =   44.489 | L5[WIO] M4 C3 - L4[WIO] Q1 M5Y C2X - L3[W] N2 C2 P5 Q5 - L2[W] Q1 - L1[I] Q1 - L0[O] Q1 \n",
      "[  0] Utilization = 0.62 | pJ/MACC =   44.485 | L5[WIO] M4 C3 - L4[WIO] Q1 M5Y C2X - L3[W] C2 N2 P5 Q5 - L2[W] Q1 - L1[I] Q1 - L0[O] Q1 \n",
      "[  4] Utilization = 0.62 | pJ/MACC =   47.118 | L5[WIO] N2 M4 C2 - L4[WIO] Q1 M5Y C2X - L3[W] C3 P5 Q5 - L2[W] Q1 - L1[I] Q1 - L0[O] Q1 \n",
      "[  6] Utilization = 0.62 | pJ/MACC =   27.677 | L5[WIO] N2 M4 - L4[WIO] C3 M5Y C2X - L3[W] C2 P5 Q5 - L2[W] Q1 - L1[I] Q1 - L0[O] Q1 \n",
      "[  5] Utilization = 0.62 | pJ/MACC =   34.157 | L5[WIO] N2 M2 C6 - L4[WIO] Q1 M5Y C2X - L3[W] M2 P5 Q5 - L2[W] Q1 - L1[I] Q1 - L0[O] Q1 \n",
      "[  3] Utilization = 0.62 | pJ/MACC =   34.157 | L5[WIO] N2 M2 C2 - L4[WIO] C3 M5Y C2X - L3[W] M2 P5 Q5 - L2[W] Q1 - L1[I] Q1 - L0[O] Q1 \n",
      "[  4] Utilization = 0.62 | pJ/MACC =   27.677 | L5[WIO] N2 M4 - L4[WIO] C6 M5Y C2X - L3[W] P5 Q5 - L2[W] Q1 - L1[I] Q1 - L0[O] Q1 \n",
      "[  0] Utilization = 0.62 | pJ/MACC =   27.677 | L5[WIO] N2 M4 - L4[WIO] C2 M5Y C2X - L3[W] C3 P5 Q5 - L2[W] Q1 - L1[I] Q1 - L0[O] Q1 \n",
      "[  7] STATEMENT: 800 suboptimal mappings found since the last upgrade, terminating search.\n",
      "[  1] STATEMENT: 800 suboptimal mappings found since the last upgrade, terminating search.\n",
      "[  2] STATEMENT: 800 suboptimal mappings found since the last upgrade, terminating search.\n",
      "[  5] STATEMENT: 800 suboptimal mappings found since the last upgrade, terminating search.\n",
      "[  6] STATEMENT: 800 suboptimal mappings found since the last upgrade, terminating search.\n",
      "[  4] STATEMENT: 800 suboptimal mappings found since the last upgrade, terminating search.\n",
      "[  3] STATEMENT: 800 suboptimal mappings found since the last upgrade, terminating search.\n",
      "[  0] STATEMENT: 800 suboptimal mappings found since the last upgrade, terminating search.\n"
     ]
    }
   ],
   "source": [
    "%%bash\n",
    "cd designs/system_auto/\n",
    "timeloop-mapper arch/system_arch_2x8.yaml arch/components/*  constraints/relaxed_constraints.yaml mapper/mapper.yaml ../../layer_shapes/point_wise.yaml"
   ]
  },
  {
   "cell_type": "code",
   "execution_count": 65,
   "metadata": {},
   "outputs": [
    {
     "name": "stdout",
     "output_type": "stream",
     "text": [
      " problem   architecture name  number of cycles  total energy (uJ)\n",
      "tiny_layer         2x8              8100              1.91       \n",
      "depth_wise        1x16              2700              0.84       \n",
      "point_wise         4x4               750              0.32       \n"
     ]
    }
   ],
   "source": [
    "# the Question 3.1.2 chart\n",
    "d = {'problem': ['tiny_layer', 'depth_wise', 'point_wise'],  \n",
    "     'architecture name': ['2x8' , '1x16', '4x4'], # fill in your answer here\n",
    "     'number of cycles': [ 8100, 2700, 750],    # fill in your answer here\n",
    "     'total energy (uJ)': [ 1.91, 0.84, 0.32],   # fill in your answer here\n",
    "    }\n",
    "df = pd.DataFrame(data=d)\n",
    "print(df.to_string(index=False, justify='center'))"
   ]
  },
  {
   "cell_type": "markdown",
   "metadata": {},
   "source": [
    "### Question 3.2\n",
    "Your circuit designer has told you that it is too expensive to have a separate architecture for each layer shape. You must now have a fixed architecture (i.e. fixed height and width of the PE array). Based on this specific architecture, you can change the mapping according to different layer shapes. \n",
    "\n",
    "What is the best architecture that achieves the **highest average throughput** of those three layer shapes among all the architectures explored in question 3.1? Please fill in the chart below.\n",
    "\n"
   ]
  },
  {
   "cell_type": "code",
   "execution_count": 66,
   "metadata": {},
   "outputs": [
    {
     "name": "stdout",
     "output_type": "stream",
     "text": [
      " problem   architecture name  number of cycles  total energy (uJ)\n",
      "tiny_layer        2x8               8100              1.91       \n",
      "depth_wise        2x8               4050              0.86       \n",
      "point_wise        2x8               1200              0.33       \n"
     ]
    }
   ],
   "source": [
    "# the Question 3.2 chart\n",
    "d = {'problem': ['tiny_layer', 'depth_wise', 'point_wise'],  \n",
    "     'architecture name': ['2x8','2x8','2x8'], # fill in your answer here\n",
    "     'number of cycles': [8100,4050,1200],    # fill in your answer here\n",
    "     'total energy (uJ)': [1.91,0.86,0.33],   # fill in your answer here\n",
    "    }\n",
    "df = pd.DataFrame(data=d)\n",
    "print(df.to_string(index=False, justify='center'))"
   ]
  },
  {
   "cell_type": "markdown",
   "metadata": {},
   "source": [
    "## Question 4 Architectures with New Technologies"
   ]
  },
  {
   "cell_type": "markdown",
   "metadata": {},
   "source": [
    "So far, we have been looking at conventional architectures based on digital VLSI designs. There are also many DNN accelerator designs that are based on emerging technologies, such as optical DNN accelerators and processing-in-memory (PIM) DNN accelerators. In this question, we are going to evaluate a PIM DNN accelerator design. The PIM design can be found at `designs/PIM` ."
   ]
  },
  {
   "cell_type": "markdown",
   "metadata": {},
   "source": [
    "### Question 4.1 \n",
    "Please take a look at the architecture description and the compound components descriptions at `designs/PIM/arch`. You will realize the compound components are much more complicated than the ones we presented before. Examine the `designs/PIM/arch/components/ADC_SimpleMulticast` class YAML definition and the hierachical tree description below. What are the missing subcomponent names? We have provided one subcomponent name for you, please follow the convention and provide you anwser in the cell below.\n",
    "\n",
    "*Hint: to find the definition of a sub-compound-component, you need to find its class definition in another file stored in the component folder*"
   ]
  },
  {
   "cell_type": "markdown",
   "metadata": {},
   "source": [
    "<img align=\"left\" src=\"designs/PIM/figures/simplemulticast_tree.png\" alt=\"Full System  Architecture Diagram\" style=\"margin:0px 0px 0px 0px; width:70%\">"
   ]
  },
  {
   "cell_type": "markdown",
   "metadata": {},
   "source": [
    "- (1):  provide your anwser here... \n",
    "A2D_converter \n",
    "- (2):  provide your anwser here...\n",
    "digital_accumulator\n",
    "- (3):  provide your anwser here...\n",
    "ADC\n",
    "- (4):  provide your anwser here...\n",
    "SH[0..total_SHs-1]\n",
    "- (5):  provide your anwser here...\n",
    "S_A\n",
    "- (6):  provide your anwser here...\n",
    "outputBuffer"
   ]
  },
  {
   "cell_type": "markdown",
   "metadata": {},
   "source": [
    "### Question 4.2\n",
    "Navigate to the folder `designs/PIM`. \n",
    "\n",
    "\n",
    "1. Run `accelergy arch/ `. Recall that this command generates the energy and area charaterizations of the architecture. Examine the output files, and fill in the table below\n",
    "\n",
    "*Hint: mac compute energy should not be a large number, e.g., >100. If so, you probably restarted/recreated the docker container and therefore erased the PIM plug-in path added by the \n",
    "accelergyTables command in the readme*. Please rerun:\n",
    "\n",
    "```\n",
    "accelergyTables -r /home/workspace/<your-lab4-folder-name>/PIM_estimation_tables\n",
    "```\n",
    "\n",
    "2. Our PIM accelerator program the weights in the memory cells (i.e.,Each PE is reposible for storing 1 16-bit weight value in its scratchpad) and does not reload weights during the run of a layer (reflected in the constraints file). Calculate the number of PEs needed to store all the weights for `problems/tiny_layer.yaml`. \n",
    "\n",
    "   M=16, C=18, R=S=3, so there are 2592 weights and 2592 PEs needed to store all the weights.\n",
    "   \n",
    "\n",
    "3.  Run `timeloop-mapper arch/*.yaml arch/components/*.yaml mapper/* constraints/* ../../layer_shapes/tiny_layer.yaml`. Is timeloop able to find any mappings? If not, in 1 or 2 sentences, explain why. If yes, provide the number of cycles and total energy consumption for running the workload.\n",
    "\n",
    "  Timeloop can't find any mappings because there are only 64 PEs, which is not enough to store the weights.\n",
    "  "
   ]
  },
  {
   "cell_type": "code",
   "execution_count": 60,
   "metadata": {},
   "outputs": [
    {
     "name": "stdout",
     "output_type": "stream",
     "text": [
      "  _______                __                \n",
      " /_  __(_)___ ___  ___  / /___  ____  ____ \n",
      "  / / / / __ `__ \\/ _ \\/ / __ \\/ __ \\/ __ \\\n",
      " / / / / / / / / /  __/ / /_/ / /_/ / /_/ /\n",
      "/_/ /_/_/ /_/ /_/\\___/_/\\____/\\____/ .___/ \n",
      "                                  /_/      \n",
      "\n",
      "Problem configuration complete.\n",
      "execute:/usr/local/bin/accelergy arch/system_PIM.yaml arch/components/A2D_conversion_system.yaml arch/components/ADC_SimpleMulticast.yaml arch/components/D2A_conversion_system.yaml arch/components/DAC_SimpleMulticast.yaml arch/components/digital_accumulation_system.yaml arch/components/memcell_compute.yaml arch/components/storage.yaml mapper/mapper.yaml constraints/constraints.yaml ../../layer_shapes/tiny_layer.yaml --oprefix timeloop-mapper. -o ./ > timeloop-mapper.accelergy.log 2>&1\n",
      "Generate Accelergy ERT (energy reference table) to replace internal energy model.\n",
      "Generate Accelergy ART (area reference table) to replace internal area model.\n",
      "Architecture configuration complete.\n",
      "Using threads = 8\n",
      "Mapper configuration complete.\n",
      "Initializing Index Factorization subspace.\n",
      "  Factorization options along problem dimension C = 40\n",
      "  Factorization options along problem dimension M = 35\n",
      "  Factorization options along problem dimension R = 1\n",
      "  Factorization options along problem dimension S = 1\n",
      "  Factorization options along problem dimension N = 5\n",
      "  Factorization options along problem dimension P = 4\n",
      "  Factorization options along problem dimension Q = 4\n",
      "Mapspace Dimension [IndexFactorization] Size: 112000\n",
      "Mapspace Dimension [LoopPermutation] Size: 152409600\n",
      "Mapspace Dimension [Spatial] Size: 1\n",
      "Mapspace Dimension [DatatypeBypass] Size: 1\n",
      "Mapspace split! Per-split Mapping Dimension [IndexFactorization] Size: 14000 Residue: 0\n",
      "Mapspace construction complete.\n",
      "Search configuration complete.\n",
      "\n",
      "MESSAGE: no valid mappings found within search criteria. Some suggestions:\n",
      "(1) Observe each mapper thread's termination message. If it terminated due to\n",
      "    consecutive failed mappings, it will tell you the number of mappings that\n",
      "    failed because of a spatial fanout violation and the number that failed\n",
      "    because of a buffer capacity violation.\n",
      "(2) Check your architecture configuration (especially mapspace constraints).\n",
      "    Try to find the offending constraints that are likely to have caused the\n",
      "    above violations, and disable those constraints.\n",
      "(3) Try other search algorithms, and relax the termination criteria:\n",
      "    victory-condition, timeout and/or search-size.\n",
      "(4) Enable mapper's diagnostics (mapper.diagnostics = True) to track and emit \n",
      "    more information about failed mappings.\n"
     ]
    },
    {
     "name": "stderr",
     "output_type": "stream",
     "text": [
      "[  0] STATEMENT: 15000 invalid mappings (15000 fanout, 0 capacity) found since the last valid mapping, terminating search.\n",
      "[  4] STATEMENT: 15000 invalid mappings (15000 fanout, 0 capacity) found since the last valid mapping, terminating search.\n",
      "[  3] STATEMENT: 15000 invalid mappings (15000 fanout, 0 capacity) found since the last valid mapping, terminating search.\n",
      "[  7] STATEMENT: 15000 invalid mappings (15000 fanout, 0 capacity) found since the last valid mapping, terminating search.\n",
      "[  1] STATEMENT: 15000 invalid mappings (15000 fanout, 0 capacity) found since the last valid mapping, terminating search.\n",
      "[  2] STATEMENT: 15000 invalid mappings (15000 fanout, 0 capacity) found since the last valid mapping, terminating search.\n",
      "[  5] STATEMENT: 15000 invalid mappings (15000 fanout, 0 capacity) found since the last valid mapping, terminating search.\n",
      "[  6] STATEMENT: 15000 invalid mappings (15000 fanout, 0 capacity) found since the last valid mapping, terminating search.\n"
     ]
    }
   ],
   "source": [
    "%%bash\n",
    "cd designs/PIM/\n",
    "timeloop-mapper arch/*.yaml arch/components/*.yaml mapper/* constraints/* ../../layer_shapes/tiny_layer.yaml"
   ]
  },
  {
   "cell_type": "code",
   "execution_count": null,
   "metadata": {},
   "outputs": [],
   "source": [
    "# the Question 4.2.1 chart\n",
    "d = {'scratchpad access energy (pJ)': [],   # fill in your answer here\n",
    "     'mac compute energy (pJ)': [],         # fill in your answer here  \n",
    "     'D2A_NoC average energy (pJ)': [],     # fill in your answer here\n",
    "     'A2D_NoC average energy (pJ)': [],     # fill in your answer here\n",
    "    }\n",
    "df = pd.DataFrame(data=d)\n",
    "print(df.to_string(index=False, justify='center'))"
   ]
  },
  {
   "cell_type": "markdown",
   "metadata": {},
   "source": [
    "### Question 4.3\n",
    "\n",
    "Navigate to `designs/PIM_large`. \n",
    "\n",
    "In this folder, we provide you with an architecture with a larger PE array of size 144*18. \n",
    "\n",
    "1. Run `timeloop-mapper arch/*.yaml arch/components/*.yaml mapper/* constraints/* ../../layer_shapes/tiny_layer.yaml`. Is timeloop able to find any mappings? If not, in 1 or 2 sentences, explain why. If yes, provide the number of cycles and total energy consumption for running the workload.\n",
    "\n",
    "  The number of cycles \n",
    " \n"
   ]
  },
  {
   "cell_type": "code",
   "execution_count": 61,
   "metadata": {},
   "outputs": [
    {
     "name": "stdout",
     "output_type": "stream",
     "text": [
      "  _______                __                \n",
      " /_  __(_)___ ___  ___  / /___  ____  ____ \n",
      "  / / / / __ `__ \\/ _ \\/ / __ \\/ __ \\/ __ \\\n",
      " / / / / / / / / /  __/ / /_/ / /_/ / /_/ /\n",
      "/_/ /_/_/ /_/ /_/\\___/_/\\____/\\____/ .___/ \n",
      "                                  /_/      \n",
      "\n",
      "Problem configuration complete.\n",
      "execute:/usr/local/bin/accelergy arch/system_PIM.yaml arch/components/A2D_conversion_system.yaml arch/components/ADC_SimpleMulticast.yaml arch/components/D2A_conversion_system.yaml arch/components/DAC_SimpleMulticast.yaml arch/components/digital_accumulation_system.yaml arch/components/memcell_compute.yaml arch/components/storage.yaml mapper/mapper.yaml constraints/constraints.yaml ../../layer_shapes/tiny_layer.yaml --oprefix timeloop-mapper. -o ./ > timeloop-mapper.accelergy.log 2>&1\n",
      "Generate Accelergy ERT (energy reference table) to replace internal energy model.\n",
      "Generate Accelergy ART (area reference table) to replace internal area model.\n",
      "Architecture configuration complete.\n",
      "Using threads = 8\n",
      "Mapper configuration complete.\n",
      "Initializing Index Factorization subspace.\n",
      "  Factorization options along problem dimension C = 1\n",
      "  Factorization options along problem dimension M = 1\n",
      "  Factorization options along problem dimension R = 1\n",
      "  Factorization options along problem dimension S = 1\n",
      "  Factorization options along problem dimension N = 5\n",
      "  Factorization options along problem dimension P = 4\n",
      "  Factorization options along problem dimension Q = 4\n",
      "Mapspace Dimension [IndexFactorization] Size: 80\n",
      "Mapspace Dimension [LoopPermutation] Size: 152409600\n",
      "Mapspace Dimension [Spatial] Size: 1\n",
      "Mapspace Dimension [DatatypeBypass] Size: 1\n",
      "Mapspace split! Per-split Mapping Dimension [IndexFactorization] Size: 10 Residue: 0\n",
      "Mapspace construction complete.\n",
      "Search configuration complete.\n",
      "\n",
      "Summary stats for best mapping found by mapper:\n",
      "  Utilization = 1.00 | pJ/MACC =    4.447\n"
     ]
    },
    {
     "name": "stderr",
     "output_type": "stream",
     "text": [
      "[  1] Utilization = 1.00 | pJ/MACC =    4.447 | L3[IO] P5 - L2[IO] Q5 - L1[] N2 M16Y C18X S3X R3X - L0[W] Q1 \n",
      "[  2] Utilization = 1.00 | pJ/MACC =    4.447 | L3[IO] P5 - L2[IO] Q5 N2 - L1[] Q1 M16Y C18X S3X R3X - L0[W] Q1 \n",
      "[  5] Utilization = 1.00 | pJ/MACC =    4.447 | L3[IO] P5 - L2[IO] Q1 - L1[] Q5 N2 M16Y C18X S3X R3X - L0[W] Q1 \n",
      "[  6] Utilization = 1.00 | pJ/MACC =    4.447 | L3[IO] Q5 - L2[IO] Q1 - L1[] N2 M16Y C18X S3X R3X - L0[W] P5 \n",
      "[  4] Utilization = 1.00 | pJ/MACC =    4.447 | L3[IO] Q5 - L2[IO] Q1 - L1[] Q1 M16Y C18X S3X R3X - L0[W] P5 N2 \n",
      "[  7] Utilization = 1.00 | pJ/MACC =    4.447 | L3[IO] P5 - L2[IO] Q1 - L1[] Q1 M16Y C18X S3X R3X - L0[W] Q5 N2 \n",
      "[  3] Utilization = 1.00 | pJ/MACC =    4.447 | L3[IO] N2 P5 - L2[IO] Q5 - L1[] Q1 M16Y C18X S3X R3X - L0[W] Q1 \n",
      "[  0] Utilization = 1.00 | pJ/MACC =    4.447 | L3[IO] Q5 - L2[IO] P5 - L1[] N2 M16Y C18X S3X R3X - L0[W] Q1 \n",
      "[  0] STATEMENT: 800 suboptimal mappings found since the last upgrade, terminating search.\n",
      "[  7] STATEMENT: 800 suboptimal mappings found since the last upgrade, terminating search.\n",
      "[  1] STATEMENT: 800 suboptimal mappings found since the last upgrade, terminating search.\n",
      "[  4] STATEMENT: 800 suboptimal mappings found since the last upgrade, terminating search.\n",
      "[  6] STATEMENT: 800 suboptimal mappings found since the last upgrade, terminating search.\n",
      "[  3] STATEMENT: 800 suboptimal mappings found since the last upgrade, terminating search.\n",
      "[  5] STATEMENT: 800 suboptimal mappings found since the last upgrade, terminating search.\n",
      "[  2] STATEMENT: 800 suboptimal mappings found since the last upgrade, terminating search.\n"
     ]
    }
   ],
   "source": [
    "%%bash\n",
    "cd designs/PIM_large/\n",
    "timeloop-mapper arch/*.yaml arch/components/*.yaml mapper/* constraints/* ../../layer_shapes/tiny_layer.yaml"
   ]
  },
  {
   "cell_type": "markdown",
   "metadata": {},
   "source": [
    "2. Your circuit designer has invented a very low-power 8-bit ADC, which only consumes half of the energy per conversion. We call this type of ADC as `low_power_SAR` ADC. You decided to model a design with thie new `low_power_SAR` ADC unit integrated. Please perform the following updates and fill in the table below.\n",
    "\n",
    "\n",
    " - Update the `designs/PIM_large/arch/components/A2D_conversion_system.yaml` approriately to replace the old `SAR` ADC with the new `low_power_SAR` ADC.\n",
    " \n",
    " - Update the energy tables at `PIM_estimation_tables/32nm_data/data/ADC.csv` for the 9-bit `low_power_SAR` ADC used in this design.\n",
    "\n",
    "*Hint: mac compute energy should not be a large number, e.g., >100. If so, you probably restarted/recreated the docker container and therefore erased the PIM plug-in path added by the \n",
    "accelergyTables command in the readme*. Please rerun:\n",
    "\n",
    "```\n",
    "accelergyTables -r /home/workspace/<your-lab4-folder-name>/PIM_estimation_tables\n",
    "```"
   ]
  },
  {
   "cell_type": "code",
   "execution_count": 69,
   "metadata": {},
   "outputs": [
    {
     "name": "stdout",
     "output_type": "stream",
     "text": [
      "  _______                __                \n",
      " /_  __(_)___ ___  ___  / /___  ____  ____ \n",
      "  / / / / __ `__ \\/ _ \\/ / __ \\/ __ \\/ __ \\\n",
      " / / / / / / / / /  __/ / /_/ / /_/ / /_/ /\n",
      "/_/ /_/_/ /_/ /_/\\___/_/\\____/\\____/ .___/ \n",
      "                                  /_/      \n",
      "\n",
      "Problem configuration complete.\n",
      "execute:/usr/local/bin/accelergy arch/system_PIM.yaml arch/components/A2D_conversion_system.yaml arch/components/ADC_SimpleMulticast.yaml arch/components/D2A_conversion_system.yaml arch/components/DAC_SimpleMulticast.yaml arch/components/digital_accumulation_system.yaml arch/components/memcell_compute.yaml arch/components/storage.yaml mapper/mapper.yaml constraints/constraints.yaml ../../layer_shapes/tiny_layer.yaml --oprefix timeloop-mapper. -o ./ > timeloop-mapper.accelergy.log 2>&1\n",
      "Generate Accelergy ERT (energy reference table) to replace internal energy model.\n",
      "Generate Accelergy ART (area reference table) to replace internal area model.\n",
      "Architecture configuration complete.\n",
      "Using threads = 8\n",
      "Mapper configuration complete.\n",
      "Initializing Index Factorization subspace.\n",
      "  Factorization options along problem dimension C = 1\n",
      "  Factorization options along problem dimension M = 1\n",
      "  Factorization options along problem dimension R = 1\n",
      "  Factorization options along problem dimension S = 1\n",
      "  Factorization options along problem dimension N = 5\n",
      "  Factorization options along problem dimension P = 4\n",
      "  Factorization options along problem dimension Q = 4\n",
      "Mapspace Dimension [IndexFactorization] Size: 80\n",
      "Mapspace Dimension [LoopPermutation] Size: 152409600\n",
      "Mapspace Dimension [Spatial] Size: 1\n",
      "Mapspace Dimension [DatatypeBypass] Size: 1\n",
      "Mapspace split! Per-split Mapping Dimension [IndexFactorization] Size: 10 Residue: 0\n",
      "Mapspace construction complete.\n",
      "Search configuration complete.\n",
      "\n",
      "Summary stats for best mapping found by mapper:\n",
      "  Utilization = 1.00 | pJ/MACC =    3.626\n"
     ]
    },
    {
     "name": "stderr",
     "output_type": "stream",
     "text": [
      "[  0] Utilization = 1.00 | pJ/MACC =    3.626 | L3[IO] Q5 - L2[IO] P5 - L1[] N2 M16Y C18X S3X R3X - L0[W] Q1 \n",
      "[  5] Utilization = 1.00 | pJ/MACC =    3.626 | L3[IO] P5 - L2[IO] Q1 - L1[] Q5 N2 M16Y C18X S3X R3X - L0[W] Q1 \n",
      "[  1] Utilization = 1.00 | pJ/MACC =    3.626 | L3[IO] P5 - L2[IO] Q5 - L1[] N2 M16Y C18X S3X R3X - L0[W] Q1 \n",
      "[  2] Utilization = 1.00 | pJ/MACC =    3.626 | L3[IO] P5 - L2[IO] Q5 N2 - L1[] Q1 M16Y C18X S3X R3X - L0[W] Q1 \n",
      "[  6] Utilization = 1.00 | pJ/MACC =    3.626 | L3[IO] Q5 - L2[IO] Q1 - L1[] N2 M16Y C18X S3X R3X - L0[W] P5 \n",
      "[  4] Utilization = 1.00 | pJ/MACC =    3.626 | L3[IO] Q5 - L2[IO] Q1 - L1[] Q1 M16Y C18X S3X R3X - L0[W] P5 N2 \n",
      "[  7] Utilization = 1.00 | pJ/MACC =    3.626 | L3[IO] P5 - L2[IO] Q1 - L1[] Q1 M16Y C18X S3X R3X - L0[W] Q5 N2 \n",
      "[  3] Utilization = 1.00 | pJ/MACC =    3.626 | L3[IO] N2 P5 - L2[IO] Q5 - L1[] Q1 M16Y C18X S3X R3X - L0[W] Q1 \n",
      "[  0] STATEMENT: 800 suboptimal mappings found since the last upgrade, terminating search.\n",
      "[  4] STATEMENT: 800 suboptimal mappings found since the last upgrade, terminating search.\n",
      "[  6] STATEMENT: 800 suboptimal mappings found since the last upgrade, terminating search.\n",
      "[  1] STATEMENT: 800 suboptimal mappings found since the last upgrade, terminating search.\n",
      "[  7] STATEMENT: 800 suboptimal mappings found since the last upgrade, terminating search.\n",
      "[  3] STATEMENT: 800 suboptimal mappings found since the last upgrade, terminating search.\n",
      "[  2] STATEMENT: 800 suboptimal mappings found since the last upgrade, terminating search.\n",
      "[  5] STATEMENT: 800 suboptimal mappings found since the last upgrade, terminating search.\n"
     ]
    }
   ],
   "source": [
    "%%bash\n",
    "cd designs/PIM_large/\n",
    "timeloop-mapper arch/*.yaml arch/components/*.yaml mapper/* constraints/* ../../layer_shapes/tiny_layer.yaml"
   ]
  },
  {
   "cell_type": "code",
   "execution_count": 70,
   "metadata": {},
   "outputs": [
    {
     "name": "stdout",
     "output_type": "stream",
     "text": [
      "\n",
      "== Static Hardware Properties ==\n",
      "scratchpad access energy   mac compute energy   D2A_NoC average energy   A2D_NoC average energy\n",
      "        0.00 pJ              33177.60 pJ             3110.40 pJ              93593.60 pJ       \n",
      "\n",
      "== Runtime Stats ==\n",
      " total cycles running tiny_layer   total energy running tiny_layer\n",
      "               50                             0.47 uJ             \n"
     ]
    }
   ],
   "source": [
    "# the Question 4.3.2 chart\n",
    "# 3.760\n",
    "print('\\n== Static Hardware Properties ==')\n",
    "d = {'scratchpad access energy': ['0.00 pJ'],         # fill in your answer here\n",
    "     '  mac compute energy': ['33177.60 pJ'],      # fill in your answer here\n",
    "     '  D2A_NoC average energy': ['3110.40 pJ'],  # fill in your answer here\n",
    "     '  A2D_NoC average energy': ['93593.60 pJ'],  # fill in your answer here\n",
    "    }\n",
    "df = pd.DataFrame(data=d)\n",
    "print(df.to_string(index=False, justify='center'))\n",
    "\n",
    "print('\\n== Runtime Stats ==')\n",
    "d = {'total cycles running tiny_layer':[50],        # fill in your answer here\n",
    "     '  total energy running tiny_layer':['0.47 uJ'] # fill in your answer here\n",
    "    }\n",
    "df = pd.DataFrame(data=d)\n",
    "print(df.to_string(index=False, justify='center'))"
   ]
  },
  {
   "cell_type": "code",
   "execution_count": null,
   "metadata": {},
   "outputs": [],
   "source": []
  }
 ],
 "metadata": {
  "kernelspec": {
   "display_name": "Python 3",
   "language": "python",
   "name": "python3"
  },
  "language_info": {
   "codemirror_mode": {
    "name": "ipython",
    "version": 3
   },
   "file_extension": ".py",
   "mimetype": "text/x-python",
   "name": "python",
   "nbconvert_exporter": "python",
   "pygments_lexer": "ipython3",
   "version": "3.8.8"
  },
  "pycharm": {
   "stem_cell": {
    "cell_type": "raw",
    "metadata": {
     "collapsed": false
    },
    "source": []
   }
  }
 },
 "nbformat": 4,
 "nbformat_minor": 2
}
